{
 "cells": [
  {
   "cell_type": "code",
   "execution_count": null,
   "metadata": {},
   "outputs": [],
   "source": [
    "import pandas as pd\n",
    "from sklearn.preprocessing import StandardScaler\n",
    "from sklearn.ensemble import IsolationForest, GradientBoostingClassifier\n",
    "from sklearn.metrics import accuracy_score, precision_score, recall_score\n",
    "from collections import deque\n",
    "import socket\n",
    "import json\n"
   ]
  },
  {
   "cell_type": "code",
   "execution_count": null,
   "metadata": {},
   "outputs": [],
   "source": [
    "def get_traffic_data():\n",
    "  # Example socket connection\n",
    "  s = socket.socket(socket.AF_INET, socket.SOCK_STREAM)\n",
    "  s.connect((\"localhost\", #))\n",
    "  data = json.loads(s.recv(1024).decode())\n",
    "  s.close()\n",
    "  return data\n",
    "\n",
    "# Features and data loading (replace with your data source)\n",
    "features = [\"source_ip\", \"destination_ip\", \"port\", \"packet_size\", \"timestamp\"]\n",
    "#features = [\"#\", \"#\", \"443\", \"1440\", \"timestamp\"]\n",
    "data = get_traffic_data()[features]\n",
    "scaler = StandardScaler()\n",
    "data_scaled = scaler.fit_transform(data)\n",
    "\n",
    "# Load labeled data for classification (optional)\n",
    "labeled_data = pd.read_csv(\"labeled_traffic.csv\")\n",
    "labeled_features = labeled_data[features]\n",
    "labeled_targets = labeled_data[\"traffic_type\"]\n"
   ]
  },
  {
   "cell_type": "code",
   "execution_count": null,
   "metadata": {},
   "outputs": [],
   "source": [
    "anomaly_detector = IsolationForest(contamination=0.1)\n",
    "anomaly_detector.fit(data_scaled)\n",
    "\n",
    "def is_anomalous(traffic_data):\n",
    "  scaled_data = scaler.transform(traffic_data.reshape(1, -1))\n",
    "  prediction = anomaly_detector.predict(scaled_data)\n",
    "  return prediction[0] == 1  # 1 indicates anomaly\n"
   ]
  },
  {
   "cell_type": "code",
   "execution_count": null,
   "metadata": {},
   "outputs": [],
   "source": [
    "knn = GradientBoostingClassifier()  # Using GBC for improved classification\n",
    "knn.fit(labeled_features, labeled_targets)\n",
    "\n",
    "def classify_traffic(traffic_data):\n",
    "  scaled_data = scaler.transform(traffic_data.reshape(1, -1))\n",
    "  prediction = knn.predict(scaled_data)\n",
    "  return prediction[0]\n"
   ]
  },
  {
   "cell_type": "code",
   "execution_count": null,
   "metadata": {},
   "outputs": [],
   "source": [
    "window_size = 100\n",
    "traffic_queue = deque(maxlen=window_size)\n",
    "normal_threshold = 0.8  # Minimum normal traffic proportion in window\n",
    "\n",
    "while True:\n",
    "  new_data = get_traffic_data()\n",
    "  traffic_queue.append(new_data)\n",
    "\n",
    "  is_anomalous_current = is_anomalous(new_data)\n",
    "  normal_count = sum(not is_anomalous(x) for x in traffic_queue)\n",
    "\n",
    "  # Analyze recent window for anomalies and suspicious activity patterns\n",
    "  if is_anomalous_current or normal_count / window_size < normal_threshold:\n",
    "    print(f\"Alert: Potential anomaly or suspicious activity for {new_data}\")\n",
    "\n",
    "    # Classify traffic if enabled\n",
    "    if knn:\n",
    "      traffic_type = classify_traffic(new_data)\n",
    "      print(f\"Traffic classified as: {traffic_type}\")\n",
    "\n",
    "    # Implement logic for further investigation and analysis based on alerts and classifications\n",
    "    # ... (e.g., trigger alarms, send notifications, log events)\n"
   ]
  },
  {
   "cell_type": "code",
   "execution_count": null,
   "metadata": {},
   "outputs": [],
   "source": [
    "anomaly_score = anomaly_detector.decision_function(data_scaled[0])\n",
    "print(f\"Anomaly score for first data point: {anomaly_score}\")"
   ]
  },
  {
   "cell_type": "code",
   "execution_count": null,
   "metadata": {},
   "outputs": [],
   "source": [
    "import matplotlib.pyplot as plt\n",
    "plt.plot(data_scaled[:, 0])  # Plot first feature\n",
    "plt.show()"
   ]
  },
  {
   "cell_type": "code",
   "execution_count": null,
   "metadata": {},
   "outputs": [],
   "source": []
  },
  {
   "cell_type": "code",
   "execution_count": null,
   "metadata": {},
   "outputs": [],
   "source": []
  }
 ],
 "metadata": {
  "kernelspec": {
   "display_name": "Python 3",
   "language": "python",
   "name": "python3"
  },
  "language_info": {
   "codemirror_mode": {
    "name": "ipython",
    "version": 3
   },
   "file_extension": ".py",
   "mimetype": "text/x-python",
   "name": "python",
   "nbconvert_exporter": "python",
   "pygments_lexer": "ipython3",
   "version": "3.7.0"
  }
 },
 "nbformat": 4,
 "nbformat_minor": 2
}
